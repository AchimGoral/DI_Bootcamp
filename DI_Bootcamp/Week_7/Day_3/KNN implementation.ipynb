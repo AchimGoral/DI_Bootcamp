{
 "cells": [
  {
   "cell_type": "code",
   "execution_count": 38,
   "metadata": {
    "ExecuteTime": {
     "end_time": "2021-02-23T10:09:02.605350Z",
     "start_time": "2021-02-23T10:09:02.601985Z"
    }
   },
   "outputs": [],
   "source": [
    "import numpy as np\n",
    "from sklearn.model_selection import train_test_split\n",
    "from numpy.linalg import norm #(a-b)"
   ]
  },
  {
   "cell_type": "code",
   "execution_count": 29,
   "metadata": {
    "ExecuteTime": {
     "end_time": "2021-02-23T10:05:03.904485Z",
     "start_time": "2021-02-23T10:05:03.895295Z"
    }
   },
   "outputs": [
    {
     "data": {
      "text/plain": [
       "array([[25, 10, 15],\n",
       "       [17,  4, 14],\n",
       "       [17, 21, 35],\n",
       "       [32, 37, 37],\n",
       "       [17,  1, 15],\n",
       "       [35, 43,  6],\n",
       "       [46,  0,  3],\n",
       "       [41, 22, 20],\n",
       "       [29,  2, 40],\n",
       "       [42,  9, 39]])"
      ]
     },
     "execution_count": 29,
     "metadata": {},
     "output_type": "execute_result"
    }
   ],
   "source": [
    "data = np.random.randint(0, 50, (10,3))\n",
    "data"
   ]
  },
  {
   "cell_type": "code",
   "execution_count": 39,
   "metadata": {
    "ExecuteTime": {
     "end_time": "2021-02-23T10:09:56.016816Z",
     "start_time": "2021-02-23T10:09:55.978355Z"
    }
   },
   "outputs": [
    {
     "data": {
      "text/plain": [
       "array([[29,  2],\n",
       "       [17, 21],\n",
       "       [41, 22],\n",
       "       [32, 37],\n",
       "       [35, 43],\n",
       "       [25, 10],\n",
       "       [42,  9],\n",
       "       [17,  4]])"
      ]
     },
     "execution_count": 39,
     "metadata": {},
     "output_type": "execute_result"
    }
   ],
   "source": [
    "X_train"
   ]
  },
  {
   "cell_type": "code",
   "execution_count": 48,
   "metadata": {
    "ExecuteTime": {
     "end_time": "2021-02-23T10:30:03.471007Z",
     "start_time": "2021-02-23T10:30:03.465430Z"
    }
   },
   "outputs": [
    {
     "data": {
      "text/plain": [
       "array([40, 35, 20, 37,  6, 15, 39, 14])"
      ]
     },
     "execution_count": 48,
     "metadata": {},
     "output_type": "execute_result"
    }
   ],
   "source": [
    "y_train"
   ]
  },
  {
   "cell_type": "code",
   "execution_count": 37,
   "metadata": {
    "ExecuteTime": {
     "end_time": "2021-02-23T10:07:02.614827Z",
     "start_time": "2021-02-23T10:07:02.608681Z"
    }
   },
   "outputs": [
    {
     "data": {
      "text/plain": [
       "array([[17,  1],\n",
       "       [46,  0]])"
      ]
     },
     "execution_count": 37,
     "metadata": {},
     "output_type": "execute_result"
    }
   ],
   "source": [
    "X_test"
   ]
  },
  {
   "cell_type": "code",
   "execution_count": 54,
   "metadata": {
    "ExecuteTime": {
     "end_time": "2021-02-23T10:31:32.721770Z",
     "start_time": "2021-02-23T10:31:32.710825Z"
    }
   },
   "outputs": [],
   "source": [
    "class KNNRegressor:\n",
    "    \n",
    "    def __init__(self, k):\n",
    "        self.k = k\n",
    "    \n",
    "    def fit(self, X, y):\n",
    "        self.X = X\n",
    "        self.y = y\n",
    "    \n",
    "    def predict(self, X_test):\n",
    "        #given (17,  1) loop thru \n",
    "        predictions = []\n",
    "        for x_test in X_test:\n",
    "            dist_list = []\n",
    "            for data_point in self.X:\n",
    "                dist = norm(x_test - data_point)\n",
    "                dist_list.append(dist)\n",
    "            indices = np.argpartition(dist_list, self.k)[:self.k]\n",
    "            y_train_top = self.y[indices]\n",
    "            final_prediction = y_train_top.mean()\n",
    "            predictions.append(final_prediction)\n",
    "        return predictions\n",
    "            \n",
    "    "
   ]
  },
  {
   "cell_type": "code",
   "execution_count": 47,
   "metadata": {
    "ExecuteTime": {
     "end_time": "2021-02-23T10:24:22.842519Z",
     "start_time": "2021-02-23T10:24:22.832206Z"
    }
   },
   "outputs": [
    {
     "data": {
      "text/plain": [
       "array([3, 0, 1])"
      ]
     },
     "execution_count": 47,
     "metadata": {},
     "output_type": "execute_result"
    }
   ],
   "source": [
    "np.argpartition([3,4,6,2,4.1], 3)[:3]"
   ]
  },
  {
   "cell_type": "code",
   "execution_count": 41,
   "metadata": {
    "ExecuteTime": {
     "end_time": "2021-02-23T10:15:59.449195Z",
     "start_time": "2021-02-23T10:15:59.442142Z"
    }
   },
   "outputs": [
    {
     "data": {
      "text/plain": [
       "array([-12,  -1])"
      ]
     },
     "execution_count": 41,
     "metadata": {},
     "output_type": "execute_result"
    }
   ],
   "source": [
    "np.array((17,  1)) - np.array((29,  2))"
   ]
  },
  {
   "cell_type": "code",
   "execution_count": 42,
   "metadata": {
    "ExecuteTime": {
     "end_time": "2021-02-23T10:16:09.193050Z",
     "start_time": "2021-02-23T10:16:09.141540Z"
    }
   },
   "outputs": [
    {
     "data": {
      "text/plain": [
       "12.041594578792296"
      ]
     },
     "execution_count": 42,
     "metadata": {},
     "output_type": "execute_result"
    }
   ],
   "source": [
    "norm(np.array((17,  1)) - np.array((29,  2)))"
   ]
  },
  {
   "cell_type": "code",
   "execution_count": 23,
   "metadata": {
    "ExecuteTime": {
     "end_time": "2021-02-23T09:58:23.298188Z",
     "start_time": "2021-02-23T09:58:23.293088Z"
    }
   },
   "outputs": [],
   "source": []
  },
  {
   "cell_type": "code",
   "execution_count": 30,
   "metadata": {
    "ExecuteTime": {
     "end_time": "2021-02-23T10:05:25.223677Z",
     "start_time": "2021-02-23T10:05:25.217252Z"
    }
   },
   "outputs": [],
   "source": [
    "X = data[:, :2]\n",
    "y = data[:, -1]"
   ]
  },
  {
   "cell_type": "code",
   "execution_count": 33,
   "metadata": {
    "ExecuteTime": {
     "end_time": "2021-02-23T10:05:54.904086Z",
     "start_time": "2021-02-23T10:05:54.886743Z"
    }
   },
   "outputs": [],
   "source": [
    "X_train, X_test, y_train, y_test = train_test_split(X, y, test_size=0.20)"
   ]
  },
  {
   "cell_type": "code",
   "execution_count": 36,
   "metadata": {
    "ExecuteTime": {
     "end_time": "2021-02-23T10:06:15.227415Z",
     "start_time": "2021-02-23T10:06:15.221226Z"
    }
   },
   "outputs": [
    {
     "data": {
      "text/plain": [
       "array([15,  3])"
      ]
     },
     "execution_count": 36,
     "metadata": {},
     "output_type": "execute_result"
    }
   ],
   "source": [
    "y_test"
   ]
  },
  {
   "cell_type": "code",
   "execution_count": 52,
   "metadata": {
    "ExecuteTime": {
     "end_time": "2021-02-23T10:31:18.157876Z",
     "start_time": "2021-02-23T10:31:18.153774Z"
    }
   },
   "outputs": [
    {
     "data": {
      "text/plain": [
       "array([[17,  1],\n",
       "       [46,  0]])"
      ]
     },
     "execution_count": 52,
     "metadata": {},
     "output_type": "execute_result"
    }
   ],
   "source": [
    "X_test"
   ]
  },
  {
   "cell_type": "code",
   "execution_count": 58,
   "metadata": {
    "ExecuteTime": {
     "end_time": "2021-02-23T10:31:51.539878Z",
     "start_time": "2021-02-23T10:31:51.534561Z"
    }
   },
   "outputs": [],
   "source": [
    "knn = KNNRegressor(k=3)"
   ]
  },
  {
   "cell_type": "code",
   "execution_count": 59,
   "metadata": {
    "ExecuteTime": {
     "end_time": "2021-02-23T10:31:52.028679Z",
     "start_time": "2021-02-23T10:31:52.009763Z"
    }
   },
   "outputs": [],
   "source": [
    "knn.fit(X, y)"
   ]
  },
  {
   "cell_type": "code",
   "execution_count": 60,
   "metadata": {
    "ExecuteTime": {
     "end_time": "2021-02-23T10:31:53.641256Z",
     "start_time": "2021-02-23T10:31:53.635506Z"
    }
   },
   "outputs": [
    {
     "data": {
      "text/plain": [
       "[23.0, 27.333333333333332]"
      ]
     },
     "execution_count": 60,
     "metadata": {},
     "output_type": "execute_result"
    }
   ],
   "source": [
    "knn.predict(X_test)"
   ]
  },
  {
   "cell_type": "code",
   "execution_count": null,
   "metadata": {},
   "outputs": [],
   "source": []
  }
 ],
 "metadata": {
  "kernelspec": {
   "display_name": "Python 3",
   "language": "python",
   "name": "python3"
  },
  "language_info": {
   "codemirror_mode": {
    "name": "ipython",
    "version": 3
   },
   "file_extension": ".py",
   "mimetype": "text/x-python",
   "name": "python",
   "nbconvert_exporter": "python",
   "pygments_lexer": "ipython3",
   "version": "3.6.8"
  },
  "toc": {
   "base_numbering": 1,
   "nav_menu": {},
   "number_sections": true,
   "sideBar": true,
   "skip_h1_title": false,
   "title_cell": "Table of Contents",
   "title_sidebar": "Contents",
   "toc_cell": false,
   "toc_position": {},
   "toc_section_display": true,
   "toc_window_display": false
  }
 },
 "nbformat": 4,
 "nbformat_minor": 4
}
