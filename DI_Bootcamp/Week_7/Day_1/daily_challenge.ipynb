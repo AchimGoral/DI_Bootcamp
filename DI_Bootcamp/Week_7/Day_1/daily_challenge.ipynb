{
 "cells": [
  {
   "cell_type": "code",
   "execution_count": 7,
   "metadata": {
    "scrolled": true
   },
   "outputs": [
    {
     "data": {
      "text/plain": [
       "array([[45, 90, 59, ..., 84, 52, 38],\n",
       "       [17, 11, 89, ..., 63, 39, 52],\n",
       "       [19, 66, 31, ..., 79, 39, 74],\n",
       "       ...,\n",
       "       [94, 76, 71, ..., 92,  9, 88],\n",
       "       [49, 81, 93, ..., 79,  9, 73],\n",
       "       [60, 89, 90, ..., 56, 84, 53]])"
      ]
     },
     "execution_count": 7,
     "metadata": {},
     "output_type": "execute_result"
    }
   ],
   "source": [
    "import numpy as np\n",
    "from random import random\n",
    "\n",
    "\n",
    "np_matrix = np.random.randint(1, 101, size=(40, 50))\n",
    "np_matrix"
   ]
  },
  {
   "cell_type": "code",
   "execution_count": 11,
   "metadata": {
    "scrolled": true
   },
   "outputs": [
    {
     "data": {
      "text/plain": [
       "array([19, 66, 31, 70,  2,  5, 72, 74, 80, 17, 38, 34, 14, 20, 27, 62, 22,\n",
       "        4, 15, 91,  8, 95, 88,  9, 41, 65, 68, 39, 49, 40, 35, 36, 46, 63,\n",
       "       85, 94, 18, 52,  3, 77, 62, 79, 78, 49,  8, 88, 51, 79, 39, 74])"
      ]
     },
     "execution_count": 11,
     "metadata": {},
     "output_type": "execute_result"
    }
   ],
   "source": [
    "np_matrix[2]"
   ]
  },
  {
   "cell_type": "code",
   "execution_count": 13,
   "metadata": {
    "scrolled": true
   },
   "outputs": [
    {
     "data": {
      "text/plain": [
       "array([59, 89, 31, 91, 52, 60, 13, 18, 38, 54, 60, 64, 46, 17, 48, 80, 90,\n",
       "       40, 31, 99, 13, 35, 71, 63, 50, 67, 79, 74, 14, 18, 68,  6,  9, 26,\n",
       "       45, 98, 12, 71, 93, 90])"
      ]
     },
     "execution_count": 13,
     "metadata": {},
     "output_type": "execute_result"
    }
   ],
   "source": [
    "np_matrix[:,2]"
   ]
  },
  {
   "cell_type": "code",
   "execution_count": 15,
   "metadata": {
    "scrolled": true
   },
   "outputs": [
    {
     "data": {
      "text/plain": [
       "array([[45, 90, 59, ..., 84, 52, 38],\n",
       "       [17, 11, 89, ..., 63, 39, 52],\n",
       "       [19, 66, 31, ..., 79, 39, 74],\n",
       "       ...,\n",
       "       [94, 76, 71, ..., 92,  9, 88],\n",
       "       [49, 81, 93, ..., 79,  9, 73],\n",
       "       [ 7,  7,  7, ...,  7,  7,  7]])"
      ]
     },
     "execution_count": 15,
     "metadata": {},
     "output_type": "execute_result"
    }
   ],
   "source": [
    "np_matrix[-1] = 7\n",
    "np_matrix\n"
   ]
  },
  {
   "cell_type": "code",
   "execution_count": 36,
   "metadata": {},
   "outputs": [
    {
     "data": {
      "text/plain": [
       "array([ 62, 101, 148,  46,  46,  80,  59, 114, 140,  69,  92, 125,  59,\n",
       "        62, 188,  54, 147, 169, 150, 140,  53, 155,  99,  46,  56,  68,\n",
       "        83,  46, 164,  77,  66,  95,  91, 143, 102, 121, 137, 140, 146,\n",
       "       166,  69, 152,  53, 101, 115,  86, 102, 147,  91,  90])"
      ]
     },
     "execution_count": 36,
     "metadata": {},
     "output_type": "execute_result"
    }
   ],
   "source": [
    "sum_columns = np.sum((np_matrix[0], np_matrix[1]), axis = 0)\n",
    "np_matrix[:,-1]\n",
    "sum_columns\n"
   ]
  }
 ],
 "metadata": {
  "kernelspec": {
   "display_name": "Python 3",
   "language": "python",
   "name": "python3"
  },
  "language_info": {
   "codemirror_mode": {
    "name": "ipython",
    "version": 3
   },
   "file_extension": ".py",
   "mimetype": "text/x-python",
   "name": "python",
   "nbconvert_exporter": "python",
   "pygments_lexer": "ipython3",
   "version": "3.7.6"
  }
 },
 "nbformat": 4,
 "nbformat_minor": 4
}
