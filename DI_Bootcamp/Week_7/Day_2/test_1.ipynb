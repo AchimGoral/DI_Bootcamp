{
 "cells": [
  {
   "cell_type": "code",
   "execution_count": 1,
   "metadata": {},
   "outputs": [
    {
     "data": {
      "text/plain": [
       "0      Okay\n",
       "1      Okay\n",
       "2      Poor\n",
       "3       Bad\n",
       "4      Poor\n",
       "      ...  \n",
       "95     Good\n",
       "96      Bad\n",
       "97    Great\n",
       "98     Poor\n",
       "99    Great\n",
       "Length: 100, dtype: object"
      ]
     },
     "execution_count": 1,
     "metadata": {},
     "output_type": "execute_result"
    }
   ],
   "source": [
    "import random\n",
    "import pandas as pd\n",
    "\n",
    "rank_list = [\"Great\", \"Good\", \"Okay\", \"Bad\", \"Poor\"]\n",
    "items = pd.Series([random.choice(rank_list) for i in range(100)])\n",
    "items"
   ]
  }
 ],
 "metadata": {
  "kernelspec": {
   "display_name": "Python 3",
   "language": "python",
   "name": "python3"
  },
  "language_info": {
   "codemirror_mode": {
    "name": "ipython",
    "version": 3
   },
   "file_extension": ".py",
   "mimetype": "text/x-python",
   "name": "python",
   "nbconvert_exporter": "python",
   "pygments_lexer": "ipython3",
   "version": "3.7.6"
  }
 },
 "nbformat": 4,
 "nbformat_minor": 4
}
