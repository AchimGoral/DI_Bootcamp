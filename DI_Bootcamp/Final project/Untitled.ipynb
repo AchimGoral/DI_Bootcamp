{
 "cells": [
  {
   "cell_type": "code",
   "execution_count": 1,
   "metadata": {},
   "outputs": [
    {
     "name": "stdout",
     "output_type": "stream",
     "text": [
      "{\"message\":\"You are not subscribed to this API.\"}\n"
     ]
    }
   ],
   "source": [
    "import requests\n",
    "\n",
    "url = \"https://iatacodes-iatacodes-v1.p.rapidapi.com/api/v5/airports\"\n",
    "\n",
    "querystring = {\"api_key\":\"YOUR-API-KEY\",\"code\":\"CDG\",\"lang\":\"en\"}\n",
    "\n",
    "headers = {\n",
    "    'x-rapidapi-key': \"c4499c9214msha5e626032188ae7p1ab1abjsn3e29fb05ec5a\",\n",
    "    'x-rapidapi-host': \"iatacodes-iatacodes-v1.p.rapidapi.com\"\n",
    "    }\n",
    "\n",
    "response = requests.request(\"GET\", url, headers=headers, params=querystring)\n",
    "\n",
    "print(response.text)"
   ]
  },
  {
   "cell_type": "code",
   "execution_count": 3,
   "metadata": {},
   "outputs": [
    {
     "name": "stdout",
     "output_type": "stream",
     "text": [
      "{\"message\":\"You are not subscribed to this API.\"}\n"
     ]
    }
   ],
   "source": [
    "\n",
    "import requests\n",
    "\n",
    "url = \"https://iatacodes-iatacodes-v1.p.rapidapi.com/api/v6/airports\"\n",
    "\n",
    "querystring = {\"api_key\":\"d74a9dae-402d-438d-8031-8c4d1031b2f9\",\"code\":\"CDG\",\"lang\":\"en\"}\n",
    "\n",
    "headers = {\n",
    "    'x-rapidapi-key': \"c4499c9214msha5e626032188ae7p1ab1abjsn3e29fb05ec5a\",\n",
    "    'x-rapidapi-host': \"iatacodes-iatacodes-v1.p.rapidapi.com\"\n",
    "    }\n",
    "\n",
    "response = requests.request(\"GET\", url, headers=headers, params=querystring)\n",
    "\n",
    "print(response.text)"
   ]
  },
  {
   "cell_type": "code",
   "execution_count": null,
   "metadata": {},
   "outputs": [],
   "source": []
  }
 ],
 "metadata": {
  "kernelspec": {
   "display_name": "Python 3",
   "language": "python",
   "name": "python3"
  },
  "language_info": {
   "codemirror_mode": {
    "name": "ipython",
    "version": 3
   },
   "file_extension": ".py",
   "mimetype": "text/x-python",
   "name": "python",
   "nbconvert_exporter": "python",
   "pygments_lexer": "ipython3",
   "version": "3.7.6"
  }
 },
 "nbformat": 4,
 "nbformat_minor": 4
}
